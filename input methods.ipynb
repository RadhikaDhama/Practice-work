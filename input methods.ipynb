{
  "nbformat": 4,
  "nbformat_minor": 0,
  "metadata": {
    "colab": {
      "name": "input.ipynb",
      "provenance": [],
      "authorship_tag": "ABX9TyOblIRJWxqeZxEwGK0558H3",
      "include_colab_link": true
    },
    "kernelspec": {
      "name": "python3",
      "display_name": "Python 3"
    },
    "language_info": {
      "name": "python"
    }
  },
  "cells": [
    {
      "cell_type": "markdown",
      "metadata": {
        "id": "view-in-github",
        "colab_type": "text"
      },
      "source": [
        "<a href=\"https://colab.research.google.com/github/RadhikaDhama/Practice-work/blob/main/input%20methods.ipynb\" target=\"_parent\"><img src=\"https://colab.research.google.com/assets/colab-badge.svg\" alt=\"Open In Colab\"/></a>"
      ]
    },
    {
      "cell_type": "code",
      "execution_count": null,
      "metadata": {
        "colab": {
          "base_uri": "https://localhost:8080/"
        },
        "id": "nlswXgPCFGna",
        "outputId": "44816918-4207-4cf0-a3d5-9142a883ad8e"
      },
      "outputs": [
        {
          "output_type": "stream",
          "name": "stdout",
          "text": [
            "Enter first num56\n",
            "Enter second num90\n",
            "146\n"
          ]
        }
      ],
      "source": [
        "# problem statements\n",
        "a=input(\"Enter first num\")\n",
        "b=input(\"Enter second num\")\n",
        "c=int(a)+int(b)\n",
        "print(c)"
      ]
    },
    {
      "cell_type": "code",
      "execution_count": null,
      "metadata": {
        "colab": {
          "base_uri": "https://localhost:8080/"
        },
        "outputId": "0faef3d5-bf5f-4a8d-b916-b7a2a9f4756a",
        "id": "kQRknyeaHL-Y"
      },
      "outputs": [
        {
          "output_type": "stream",
          "name": "stdout",
          "text": [
            "Enter first num88\n",
            "Enter second num3\n",
            "1\n"
          ]
        }
      ],
      "source": [
        "# problem statements\n",
        "a=input(\"Enter first num\")\n",
        "b=input(\"Enter second num\")\n",
        "c=int(a)%int(b)\n",
        "print(c)"
      ]
    },
    {
      "cell_type": "code",
      "source": [
        "a=34\n",
        "b=80\n",
        "a>b"
      ],
      "metadata": {
        "colab": {
          "base_uri": "https://localhost:8080/"
        },
        "id": "Z2RVOcLcIYRy",
        "outputId": "bc2f9cf8-ba7b-4b79-c47d-dded0a288348"
      },
      "execution_count": null,
      "outputs": [
        {
          "output_type": "execute_result",
          "data": {
            "text/plain": [
              "False"
            ]
          },
          "metadata": {},
          "execution_count": 14
        }
      ]
    },
    {
      "cell_type": "code",
      "execution_count": null,
      "metadata": {
        "colab": {
          "base_uri": "https://localhost:8080/"
        },
        "outputId": "873d50ab-def0-4bae-a30f-7b19d28a53e7",
        "id": "KN4AupihIsoH"
      },
      "outputs": [
        {
          "output_type": "stream",
          "name": "stdout",
          "text": [
            "Enter first num5\n",
            "Enter second num7\n",
            "6.0\n"
          ]
        }
      ],
      "source": [
        "\n",
        "a=input(\"Enter first num\")\n",
        "b=input(\"Enter second num\")\n",
        "c=(int(a)+int(b))/2\n",
        "print(c)"
      ]
    },
    {
      "cell_type": "code",
      "source": [
        "a=input(\"Enter the num\")\n",
        "x=int(a)**2\n",
        "print(x)"
      ],
      "metadata": {
        "colab": {
          "base_uri": "https://localhost:8080/"
        },
        "id": "SzJ1BLPgJDEz",
        "outputId": "0610bf41-93ae-4b30-c6db-59831d9201a5"
      },
      "execution_count": null,
      "outputs": [
        {
          "output_type": "stream",
          "name": "stdout",
          "text": [
            "Enter the num45\n",
            "2025\n"
          ]
        }
      ]
    },
    {
      "cell_type": "code",
      "source": [
        "a=input(\"Enter your name\")\n",
        "print(\"Good Afternoon, \"+a )"
      ],
      "metadata": {
        "colab": {
          "base_uri": "https://localhost:8080/"
        },
        "id": "MvKcBxL8JXby",
        "outputId": "0aa5da21-f145-463b-bb13-e2287f10f708"
      },
      "execution_count": null,
      "outputs": [
        {
          "output_type": "stream",
          "name": "stdout",
          "text": [
            "Enter your nameRohan\n",
            "Good Afternoon, Rohan\n"
          ]
        }
      ]
    },
    {
      "cell_type": "code",
      "source": [
        "letter='''Dear <|NAME|>,\n",
        "You are selected! Greetings from TedX!\n",
        "Hope you are well\n",
        "Date:<|DATE|>'''\n",
        "name=input(\"Enter your name\")\n",
        "date=input(\"Enter date\")\n",
        "letter=letter.replace(\"<|NAME|>\",name)\n",
        "letter=letter.replace(\"<|DATE|>\",date)\n",
        "print(letter)\n"
      ],
      "metadata": {
        "colab": {
          "base_uri": "https://localhost:8080/"
        },
        "id": "4wd-X94FKBSe",
        "outputId": "3a2e240b-03e7-44ce-ccd8-c3e43622c0b4"
      },
      "execution_count": null,
      "outputs": [
        {
          "output_type": "stream",
          "name": "stdout",
          "text": [
            "Enter your nameRadhika\n",
            "Enter date6 August\n",
            "Dear Radhika,\n",
            "You are selected! Greetings from TedX!\n",
            "Hope you are well\n",
            "Date:6 August\n"
          ]
        }
      ]
    },
    {
      "cell_type": "code",
      "source": [
        "lit=\"this is a string  with double    space\"\n",
        "doublespaces=lit.find(\"  \")  # give index ,if no space then output is-1\n",
        "print(doublespaces)"
      ],
      "metadata": {
        "colab": {
          "base_uri": "https://localhost:8080/"
        },
        "id": "9fJGd9ISNL2G",
        "outputId": "88cfa223-74d4-46ff-c8ed-633aed2b89b6"
      },
      "execution_count": null,
      "outputs": [
        {
          "output_type": "stream",
          "name": "stdout",
          "text": [
            "16\n"
          ]
        }
      ]
    },
    {
      "cell_type": "code",
      "source": [
        "doublespaces=lit.replace(\"  \",\" \")#replace 4 spaces with 2\n",
        "print(doublespaces)"
      ],
      "metadata": {
        "colab": {
          "base_uri": "https://localhost:8080/"
        },
        "id": "gwnXBT8IObfW",
        "outputId": "fb9760b6-242e-4507-fd04-fac5f842394c"
      },
      "execution_count": null,
      "outputs": [
        {
          "output_type": "stream",
          "name": "stdout",
          "text": [
            "this is a string with double  space\n"
          ]
        }
      ]
    },
    {
      "cell_type": "code",
      "source": [
        "letter=\"Dear Choti,Happy Birthday\"\n",
        "formatted letter=\"Dear Tiya,\\n\\tHappy Birtday\\nLots of wishes\"\n",
        "print(formatted letter)"
      ],
      "metadata": {
        "colab": {
          "base_uri": "https://localhost:8080/",
          "height": 130
        },
        "id": "DpBfU9TSPBjb",
        "outputId": "fb3feefe-43c5-46f0-d690-5609f8a75b9c"
      },
      "execution_count": null,
      "outputs": [
        {
          "output_type": "error",
          "ename": "SyntaxError",
          "evalue": "ignored",
          "traceback": [
            "\u001b[0;36m  File \u001b[0;32m\"<ipython-input-35-2d488682a018>\"\u001b[0;36m, line \u001b[0;32m2\u001b[0m\n\u001b[0;31m    formatted letter=\"Dear Tiya,\\n\\tHappy Birtday\\nLots of wishes\"\u001b[0m\n\u001b[0m                   ^\u001b[0m\n\u001b[0;31mSyntaxError\u001b[0m\u001b[0;31m:\u001b[0m invalid syntax\n"
          ]
        }
      ]
    }
  ]
}