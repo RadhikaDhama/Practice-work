{
  "nbformat": 4,
  "nbformat_minor": 0,
  "metadata": {
    "colab": {
      "name": "List",
      "provenance": [],
      "authorship_tag": "ABX9TyO3LOkVpNdoWX4UL1himB95",
      "include_colab_link": true
    },
    "kernelspec": {
      "name": "python3",
      "display_name": "Python 3"
    },
    "language_info": {
      "name": "python"
    }
  },
  "cells": [
    {
      "cell_type": "markdown",
      "metadata": {
        "id": "view-in-github",
        "colab_type": "text"
      },
      "source": [
        "<a href=\"https://colab.research.google.com/github/RadhikaDhama/Practice-work/blob/main/List.ipynb\" target=\"_parent\"><img src=\"https://colab.research.google.com/assets/colab-badge.svg\" alt=\"Open In Colab\"/></a>"
      ]
    },
    {
      "cell_type": "code",
      "execution_count": null,
      "metadata": {
        "colab": {
          "base_uri": "https://localhost:8080/"
        },
        "id": "xIf6I2rl_ZGK",
        "outputId": "ec4d118a-e89f-45b4-b4be-4a4c82957bbd"
      },
      "outputs": [
        {
          "output_type": "stream",
          "name": "stdout",
          "text": [
            "['a', 'b', 12, 'rohan', 86]\n"
          ]
        }
      ],
      "source": [
        "#list-an inbuilt class type\n",
        "lst=['a','b',12,'rohan',86]\n",
        "print(lst)"
      ]
    },
    {
      "cell_type": "code",
      "source": [
        "lst=[3,6,(8,9)] #lst contain tuple but we can't assign any value to 3 element as tuple is \n",
        "                #immutable\n",
        "print(lst)"
      ],
      "metadata": {
        "id": "lxHhdAQLzH7t",
        "colab": {
          "base_uri": "https://localhost:8080/"
        },
        "outputId": "adb4f82d-639f-4cd3-9bf3-d681d0bd02ad"
      },
      "execution_count": null,
      "outputs": [
        {
          "output_type": "stream",
          "name": "stdout",
          "text": [
            "[3, 6, (8, 9)]\n"
          ]
        }
      ]
    },
    {
      "cell_type": "code",
      "source": [
        "lst=['riya',12,38,'hello']\n",
        "print(lst)\n",
        "type(lst)"
      ],
      "metadata": {
        "colab": {
          "base_uri": "https://localhost:8080/"
        },
        "id": "pB_-QzcpA07V",
        "outputId": "c5e1e522-8cdb-44ed-8af5-d25f15055c62"
      },
      "execution_count": null,
      "outputs": [
        {
          "output_type": "stream",
          "name": "stdout",
          "text": [
            "['riya', 12, 38, 'hello']\n"
          ]
        },
        {
          "output_type": "execute_result",
          "data": {
            "text/plain": [
              "list"
            ]
          },
          "metadata": {},
          "execution_count": 2
        }
      ]
    },
    {
      "cell_type": "code",
      "source": [
        "print(lst[3]) # index from 0 onwards are assigned to elements of list starting from left"
      ],
      "metadata": {
        "colab": {
          "base_uri": "https://localhost:8080/"
        },
        "id": "Y6h23wJZBI26",
        "outputId": "d7ad50af-408e-4258-aa44-0365454408d6"
      },
      "execution_count": null,
      "outputs": [
        {
          "output_type": "stream",
          "name": "stdout",
          "text": [
            "hello\n"
          ]
        }
      ]
    },
    {
      "cell_type": "code",
      "source": [
        "print(lst[-2])#'''while assigning  \n",
        "#from last it starts\n",
        "#from -1'''"
      ],
      "metadata": {
        "colab": {
          "base_uri": "https://localhost:8080/"
        },
        "id": "ps5dO__6BSeN",
        "outputId": "31314004-a70f-4ad5-89d6-daab13f65c38"
      },
      "execution_count": null,
      "outputs": [
        {
          "output_type": "stream",
          "name": "stdout",
          "text": [
            "38\n"
          ]
        }
      ]
    },
    {
      "cell_type": "code",
      "source": [
        "print(lst*3) #writing list multiple times"
      ],
      "metadata": {
        "id": "L04c5VJ0GsaW",
        "colab": {
          "base_uri": "https://localhost:8080/"
        },
        "outputId": "c7b08b17-0ce2-4352-e7df-139f5b86a925"
      },
      "execution_count": null,
      "outputs": [
        {
          "output_type": "stream",
          "name": "stdout",
          "text": [
            "['riya', 12, 38, 'hello', 'riya', 12, 38, 'hello', 'riya', 12, 38, 'hello']\n"
          ]
        }
      ]
    },
    {
      "cell_type": "markdown",
      "source": [
        "Slicing\n"
      ],
      "metadata": {
        "id": "tFWsg-iilxOD"
      }
    },
    {
      "cell_type": "code",
      "source": [
        "print(lst[0:3:2])"
      ],
      "metadata": {
        "id": "awbfySHlEbTL",
        "colab": {
          "base_uri": "https://localhost:8080/"
        },
        "outputId": "9ce1b72d-4e1c-410a-b038-8869e9da6a68"
      },
      "execution_count": null,
      "outputs": [
        {
          "output_type": "stream",
          "name": "stdout",
          "text": [
            "['riya', 38]\n"
          ]
        }
      ]
    },
    {
      "cell_type": "code",
      "source": [
        "print(lst[1:3]) #slicing..last mentioned index is not included"
      ],
      "metadata": {
        "colab": {
          "base_uri": "https://localhost:8080/"
        },
        "id": "7587YJ_aBlk-",
        "outputId": "9fc9d802-28ad-4738-9a23-052ec8970f37"
      },
      "execution_count": null,
      "outputs": [
        {
          "output_type": "stream",
          "name": "stdout",
          "text": [
            "[12, 38]\n"
          ]
        }
      ]
    },
    {
      "cell_type": "code",
      "source": [
        "lst[:3]"
      ],
      "metadata": {
        "colab": {
          "base_uri": "https://localhost:8080/"
        },
        "id": "8vY_K2rJB12j",
        "outputId": "b2465fae-ae6b-494f-b876-34a8bd3b8e52"
      },
      "execution_count": null,
      "outputs": [
        {
          "output_type": "execute_result",
          "data": {
            "text/plain": [
              "['riya', 12, 38]"
            ]
          },
          "metadata": {},
          "execution_count": 14
        }
      ]
    },
    {
      "cell_type": "code",
      "source": [
        "lst[1:]"
      ],
      "metadata": {
        "colab": {
          "base_uri": "https://localhost:8080/"
        },
        "id": "0nSJ9Ux0CEum",
        "outputId": "eee505d6-9517-459d-c636-76f1d46af05b"
      },
      "execution_count": null,
      "outputs": [
        {
          "output_type": "execute_result",
          "data": {
            "text/plain": [
              "[12, 38, 'hello']"
            ]
          },
          "metadata": {},
          "execution_count": 15
        }
      ]
    },
    {
      "cell_type": "code",
      "source": [
        "print(lst[:7]) #it doesn't matter what the last index is if it exceeds the range\n",
        "print(lst[:])\n",
        "print(lst[::2])\n",
        "print(lst[::])#here default values are 0,len,1 respectively\n",
        "print(lst[::-2])#here the order is reversed and output contains alternate elements"
      ],
      "metadata": {
        "colab": {
          "base_uri": "https://localhost:8080/"
        },
        "id": "PbG4LFgACNa4",
        "outputId": "070c8b25-a972-4572-c1c1-014648c384bf"
      },
      "execution_count": null,
      "outputs": [
        {
          "output_type": "stream",
          "name": "stdout",
          "text": [
            "['riya', 12, 38, 'hello']\n",
            "['riya', 12, 38, 'hello']\n",
            "['riya', 38]\n",
            "['riya', 12, 38, 'hello']\n",
            "['hello', 12]\n"
          ]
        }
      ]
    },
    {
      "cell_type": "code",
      "source": [
        "print(lst[0:4:-3])"
      ],
      "metadata": {
        "colab": {
          "base_uri": "https://localhost:8080/"
        },
        "id": "U3Nm9kKqdcRz",
        "outputId": "968cff1d-453f-4476-dd3e-962d686e4e60"
      },
      "execution_count": null,
      "outputs": [
        {
          "output_type": "stream",
          "name": "stdout",
          "text": [
            "[]\n"
          ]
        }
      ]
    },
    {
      "cell_type": "code",
      "source": [
        "lst_2 =[16,83,39,54,12]\n",
        "del lst_2[2]"
      ],
      "metadata": {
        "id": "WKPeJ12jEsz0"
      },
      "execution_count": null,
      "outputs": []
    },
    {
      "cell_type": "code",
      "source": [
        "print(lst_2) #39 is del;eted"
      ],
      "metadata": {
        "colab": {
          "base_uri": "https://localhost:8080/"
        },
        "id": "aBvX-_2rGwN7",
        "outputId": "d0f8eb8b-7b33-4a59-d94f-ceefafe7e8e5"
      },
      "execution_count": null,
      "outputs": [
        {
          "output_type": "stream",
          "name": "stdout",
          "text": [
            "[16, 83, 54, 12]\n"
          ]
        }
      ]
    },
    {
      "cell_type": "code",
      "source": [
        "A=[12,35,68,10,54]\n",
        "type(A)"
      ],
      "metadata": {
        "colab": {
          "base_uri": "https://localhost:8080/"
        },
        "id": "j90u3vGYG2Ex",
        "outputId": "76747c18-a3e7-40da-8649-cc4ce9e82575"
      },
      "execution_count": null,
      "outputs": [
        {
          "output_type": "execute_result",
          "data": {
            "text/plain": [
              "list"
            ]
          },
          "metadata": {},
          "execution_count": 42
        }
      ]
    },
    {
      "cell_type": "code",
      "source": [
        "my name=['a',12,0,3,'nitin']#variable name can't take space"
      ],
      "metadata": {
        "colab": {
          "base_uri": "https://localhost:8080/",
          "height": 131
        },
        "id": "3aYugsyWH08k",
        "outputId": "02539352-b8e6-407f-b847-498668f6a6a5"
      },
      "execution_count": null,
      "outputs": [
        {
          "output_type": "error",
          "ename": "SyntaxError",
          "evalue": "ignored",
          "traceback": [
            "\u001b[0;36m  File \u001b[0;32m\"<ipython-input-62-24fad9a0ea01>\"\u001b[0;36m, line \u001b[0;32m1\u001b[0m\n\u001b[0;31m    my name=['a',12,0,3,'nitin']#variable name can't take space\u001b[0m\n\u001b[0m          ^\u001b[0m\n\u001b[0;31mSyntaxError\u001b[0m\u001b[0;31m:\u001b[0m invalid syntax\n"
          ]
        }
      ]
    },
    {
      "cell_type": "code",
      "source": [
        "myname=[6,9,7,4]\n",
        "print(myname)"
      ],
      "metadata": {
        "colab": {
          "base_uri": "https://localhost:8080/"
        },
        "id": "ktE1iJ7rERu0",
        "outputId": "0206fcc1-504a-491f-dd19-de09bf269be6"
      },
      "execution_count": null,
      "outputs": [
        {
          "output_type": "stream",
          "name": "stdout",
          "text": [
            "[6, 9, 7, 4]\n"
          ]
        }
      ]
    },
    {
      "cell_type": "code",
      "source": [
        "nums=[lst,lst_2]#combining two lists\n",
        "print(nums)"
      ],
      "metadata": {
        "colab": {
          "base_uri": "https://localhost:8080/"
        },
        "id": "Rs3RoyMTILKf",
        "outputId": "ead4c4a1-4437-4646-9e1a-dd76ea730f65"
      },
      "execution_count": null,
      "outputs": [
        {
          "output_type": "stream",
          "name": "stdout",
          "text": [
            "[['riya', 12, 38, 'hello'], [16, 109, 54, 12]]\n"
          ]
        }
      ]
    },
    {
      "cell_type": "code",
      "source": [
        "lst_2[1]=109 # '''list is mutable\n",
        "#elements can be changed'''\n",
        "lst_2"
      ],
      "metadata": {
        "colab": {
          "base_uri": "https://localhost:8080/"
        },
        "id": "JhJVhGWRKfkD",
        "outputId": "7604f0e8-abac-4ff4-f71d-78cebaf75351"
      },
      "execution_count": null,
      "outputs": [
        {
          "output_type": "execute_result",
          "data": {
            "text/plain": [
              "[16, 109, 54, 12]"
            ]
          },
          "metadata": {},
          "execution_count": 49
        }
      ]
    },
    {
      "cell_type": "code",
      "source": [
        "pics=[12,30,4,90,83,66] #sort is a list method it only sort the same list\n",
        "pics.sort()\n",
        "print(pics)"
      ],
      "metadata": {
        "colab": {
          "base_uri": "https://localhost:8080/"
        },
        "id": "PvJb5OZjK73o",
        "outputId": "549fa8fb-76b3-43f8-f68a-7d0d88f5a106"
      },
      "execution_count": null,
      "outputs": [
        {
          "output_type": "stream",
          "name": "stdout",
          "text": [
            "[4, 12, 30, 66, 83, 90]\n"
          ]
        }
      ]
    },
    {
      "cell_type": "code",
      "source": [
        "Lst=sorted(pics) #sorted is used to create new list after sorting the elements in previous one\n",
        "print(Lst)"
      ],
      "metadata": {
        "colab": {
          "base_uri": "https://localhost:8080/"
        },
        "id": "0x4x2ZHBeHda",
        "outputId": "aba896cc-8fb4-48e0-c3c5-209dac06f923"
      },
      "execution_count": null,
      "outputs": [
        {
          "output_type": "stream",
          "name": "stdout",
          "text": [
            "[4, 12, 30, 66, 83, 90]\n"
          ]
        }
      ]
    },
    {
      "cell_type": "code",
      "source": [
        "max(pics)"
      ],
      "metadata": {
        "colab": {
          "base_uri": "https://localhost:8080/"
        },
        "id": "fzxnmnlmLVzR",
        "outputId": "d88869ac-e8eb-406d-b2ee-118bbdead4c8"
      },
      "execution_count": null,
      "outputs": [
        {
          "output_type": "execute_result",
          "data": {
            "text/plain": [
              "90"
            ]
          },
          "metadata": {},
          "execution_count": 54
        }
      ]
    },
    {
      "cell_type": "code",
      "source": [
        "min(pics)"
      ],
      "metadata": {
        "colab": {
          "base_uri": "https://localhost:8080/"
        },
        "id": "vqeCbjrTLdR0",
        "outputId": "d558eaa8-b032-423d-e24d-d1eca1734608"
      },
      "execution_count": null,
      "outputs": [
        {
          "output_type": "execute_result",
          "data": {
            "text/plain": [
              "4"
            ]
          },
          "metadata": {},
          "execution_count": 55
        }
      ]
    },
    {
      "cell_type": "code",
      "source": [
        "pics.insert(1,20)\n",
        "print(pics)\n",
        "                  "
      ],
      "metadata": {
        "colab": {
          "base_uri": "https://localhost:8080/"
        },
        "id": "9GnKVzNoLhkO",
        "outputId": "3729fd73-a7fd-4df1-e685-071f9f633f74"
      },
      "execution_count": null,
      "outputs": [
        {
          "output_type": "stream",
          "name": "stdout",
          "text": [
            "[4, 20, 12, 30, 66, 83, 90]\n"
          ]
        }
      ]
    },
    {
      "cell_type": "code",
      "source": [
        "pics.append(6)#???\n",
        "pics"
      ],
      "metadata": {
        "colab": {
          "base_uri": "https://localhost:8080/"
        },
        "id": "Pr1hg8hVMFJw",
        "outputId": "3be739f2-395e-4361-ef45-73ef61a47d33"
      },
      "execution_count": null,
      "outputs": [
        {
          "output_type": "execute_result",
          "data": {
            "text/plain": [
              "[4, 20, 12, 30, 66, 83, 90, 6]"
            ]
          },
          "metadata": {},
          "execution_count": 14
        }
      ]
    },
    {
      "cell_type": "code",
      "source": [
        "xyz=[20,11,78,63]\n",
        "xyz.append(0)\n",
        "print(xyz)"
      ],
      "metadata": {
        "id": "FX0hharWMXAz",
        "colab": {
          "base_uri": "https://localhost:8080/"
        },
        "outputId": "c5ad74a3-e191-40d6-e3cf-2588926f4e6b"
      },
      "execution_count": null,
      "outputs": [
        {
          "output_type": "stream",
          "name": "stdout",
          "text": [
            "[20, 11, 78, 63, 0]\n"
          ]
        }
      ]
    },
    {
      "cell_type": "code",
      "source": [
        "xyz"
      ],
      "metadata": {
        "colab": {
          "base_uri": "https://localhost:8080/"
        },
        "id": "LIuu7HPOMkEW",
        "outputId": "61a3b77c-2c55-41d1-ddd8-d51e4c1f314b"
      },
      "execution_count": null,
      "outputs": [
        {
          "output_type": "execute_result",
          "data": {
            "text/plain": [
              "[20, 11, 78, 63, 0]"
            ]
          },
          "metadata": {},
          "execution_count": 19
        }
      ]
    },
    {
      "cell_type": "code",
      "source": [
        "xyz.remove(78)\n",
        "print(xyz)"
      ],
      "metadata": {
        "colab": {
          "base_uri": "https://localhost:8080/"
        },
        "id": "xCoToaExMmxB",
        "outputId": "563fd6fe-c324-42c1-b2ab-aa0a944c76ca"
      },
      "execution_count": null,
      "outputs": [
        {
          "output_type": "stream",
          "name": "stdout",
          "text": [
            "[20, 11, 63, 0]\n"
          ]
        }
      ]
    },
    {
      "cell_type": "code",
      "source": [
        "del xyz[1:4] \n",
        "print(xyz)"
      ],
      "metadata": {
        "id": "Quq0urSDM-nn",
        "colab": {
          "base_uri": "https://localhost:8080/"
        },
        "outputId": "44164de2-4015-4964-a345-e86d8ec41866"
      },
      "execution_count": null,
      "outputs": [
        {
          "output_type": "stream",
          "name": "stdout",
          "text": [
            "[20]\n"
          ]
        }
      ]
    },
    {
      "cell_type": "code",
      "source": [
        "grocery=[\"rice\",\"shampoo\",\"salt\",\"paste\",\"maggi\",[\"register\",\"towel\"]] #nested list\n",
        "print(grocery[5][1])\n",
        "print(grocery[2][3])"
      ],
      "metadata": {
        "id": "AL6lHGX9OBQE",
        "colab": {
          "base_uri": "https://localhost:8080/"
        },
        "outputId": "56898bd9-3039-4aad-e91e-9e2fb4bf64dc"
      },
      "execution_count": null,
      "outputs": [
        {
          "output_type": "stream",
          "name": "stdout",
          "text": [
            "towel\n",
            "t\n"
          ]
        }
      ]
    },
    {
      "cell_type": "markdown",
      "source": [
        "M**ethods of list**"
      ],
      "metadata": {
        "id": "1cqj38cmlaUt"
      }
    },
    {
      "cell_type": "code",
      "source": [
        "mil=[1,6.7,5,3.4]#last in first out\n",
        "mil.pop()\n",
        "mil"
      ],
      "metadata": {
        "colab": {
          "base_uri": "https://localhost:8080/"
        },
        "id": "PHkq8eRBOIYd",
        "outputId": "6e1add5a-22bf-49f5-dd79-b1af36ae5ad4"
      },
      "execution_count": null,
      "outputs": [
        {
          "output_type": "execute_result",
          "data": {
            "text/plain": [
              "[1, 6.7, 5]"
            ]
          },
          "metadata": {},
          "execution_count": 31
        }
      ]
    },
    {
      "cell_type": "code",
      "source": [
        "mil.pop(1)# pop can take index to delete particular element\n",
        "mil"
      ],
      "metadata": {
        "colab": {
          "base_uri": "https://localhost:8080/"
        },
        "id": "kvFWfmkzOYK3",
        "outputId": "34e29f59-dae4-4c24-d552-378e7782193f"
      },
      "execution_count": null,
      "outputs": [
        {
          "output_type": "execute_result",
          "data": {
            "text/plain": [
              "[1, 5]"
            ]
          },
          "metadata": {},
          "execution_count": 32
        }
      ]
    },
    {
      "cell_type": "code",
      "source": [
        "tip=[35,724,85,15]\n",
        "tip.pop(1)\n",
        "tip"
      ],
      "metadata": {
        "colab": {
          "base_uri": "https://localhost:8080/"
        },
        "id": "6xJUJMoVO9el",
        "outputId": "ad691108-078d-43e4-bb35-7da549e2b8a3"
      },
      "execution_count": null,
      "outputs": [
        {
          "output_type": "execute_result",
          "data": {
            "text/plain": [
              "[35, 85, 15]"
            ]
          },
          "metadata": {},
          "execution_count": 100
        }
      ]
    },
    {
      "cell_type": "code",
      "source": [
        "tip=[75,97,5,6]\n",
        "print(tip.pop())\n",
        "print(tip.pop())\n",
        "print(tip)"
      ],
      "metadata": {
        "colab": {
          "base_uri": "https://localhost:8080/"
        },
        "id": "3Zso0ocQPgTN",
        "outputId": "0e2f0338-b4b7-42a7-8d51-ce1c9a5d5470"
      },
      "execution_count": null,
      "outputs": [
        {
          "output_type": "stream",
          "name": "stdout",
          "text": [
            "6\n",
            "5\n",
            "[75, 97]\n"
          ]
        }
      ]
    },
    {
      "cell_type": "code",
      "source": [
        "tip.extend(\"john\") #??\n",
        "tip"
      ],
      "metadata": {
        "colab": {
          "base_uri": "https://localhost:8080/"
        },
        "id": "LqL3HfqWP3FU",
        "outputId": "4dc82705-b199-4394-8a0f-fc1710280b50"
      },
      "execution_count": null,
      "outputs": [
        {
          "output_type": "execute_result",
          "data": {
            "text/plain": [
              "[75, 97, 'j', 'o', 'h', 'n']"
            ]
          },
          "metadata": {},
          "execution_count": 69
        }
      ]
    },
    {
      "cell_type": "code",
      "source": [
        "tip.extend([16,50])\n",
        "tip"
      ],
      "metadata": {
        "colab": {
          "base_uri": "https://localhost:8080/"
        },
        "id": "TM8JKRVuQEQP",
        "outputId": "7bd3343d-3a92-4092-e11a-c17b75651cd5"
      },
      "execution_count": null,
      "outputs": [
        {
          "output_type": "execute_result",
          "data": {
            "text/plain": [
              "[75, 97, 5, 16, 50]"
            ]
          },
          "metadata": {},
          "execution_count": 15
        }
      ]
    },
    {
      "cell_type": "code",
      "source": [
        "sut=[0,10,12,80]\n",
        "\n",
        "print(sut)"
      ],
      "metadata": {
        "colab": {
          "base_uri": "https://localhost:8080/"
        },
        "id": "Tm3AxWInzKWi",
        "outputId": "94ef8354-5c19-4f9f-9eb4-2be205e001ec"
      },
      "execution_count": null,
      "outputs": [
        {
          "output_type": "stream",
          "name": "stdout",
          "text": [
            "[0, 10, 12, 80]\n"
          ]
        }
      ]
    },
    {
      "cell_type": "code",
      "source": [
        "sut.remove(10)#to remove particular element\n",
        "sut"
      ],
      "metadata": {
        "colab": {
          "base_uri": "https://localhost:8080/"
        },
        "id": "iqP6wCuWz_Ju",
        "outputId": "9ea20684-db85-42e1-eec2-77047355170d"
      },
      "execution_count": null,
      "outputs": [
        {
          "output_type": "execute_result",
          "data": {
            "text/plain": [
              "[0, 12, 80]"
            ]
          },
          "metadata": {},
          "execution_count": 45
        }
      ]
    },
    {
      "cell_type": "code",
      "source": [
        "sut.clear()#to clear all elements\n",
        "print(sut)"
      ],
      "metadata": {
        "colab": {
          "base_uri": "https://localhost:8080/"
        },
        "id": "AKZJe7Soheea",
        "outputId": "d642d7f9-3330-4bb4-da94-9ec5a975bd5a"
      },
      "execution_count": null,
      "outputs": [
        {
          "output_type": "stream",
          "name": "stdout",
          "text": [
            "[]\n"
          ]
        }
      ]
    },
    {
      "cell_type": "code",
      "source": [
        "title=[\"Uri\",\"roy\",\"Race\",\"83\",\"3 Idiots\"]\n",
        "print(title.copy())"
      ],
      "metadata": {
        "colab": {
          "base_uri": "https://localhost:8080/"
        },
        "id": "fxT207Yvht20",
        "outputId": "6e325001-a73c-44aa-96c0-6d7c17cbb01c"
      },
      "execution_count": null,
      "outputs": [
        {
          "output_type": "stream",
          "name": "stdout",
          "text": [
            "['Uri', 'roy', 'Race', '83', '3 Idiots']\n"
          ]
        }
      ]
    },
    {
      "cell_type": "code",
      "source": [
        "new=title.reverse()#?\n",
        "print(new)"
      ],
      "metadata": {
        "colab": {
          "base_uri": "https://localhost:8080/"
        },
        "id": "tL2ocr3EiRId",
        "outputId": "4c1f7f44-05fa-4939-c87b-bf293e3be4f3"
      },
      "execution_count": null,
      "outputs": [
        {
          "output_type": "stream",
          "name": "stdout",
          "text": [
            "None\n"
          ]
        }
      ]
    },
    {
      "cell_type": "code",
      "source": [
        "title.index(\"roy\")"
      ],
      "metadata": {
        "colab": {
          "base_uri": "https://localhost:8080/"
        },
        "id": "1qpm82L_iqx3",
        "outputId": "061eb361-bfe2-4008-a860-6c1ac7b71d46"
      },
      "execution_count": null,
      "outputs": [
        {
          "output_type": "execute_result",
          "data": {
            "text/plain": [
              "3"
            ]
          },
          "metadata": {},
          "execution_count": 56
        }
      ]
    },
    {
      "cell_type": "code",
      "source": [
        "a=[5,7,9,4,1]\n",
        "print(a.reverse())"
      ],
      "metadata": {
        "colab": {
          "base_uri": "https://localhost:8080/"
        },
        "id": "S6Iq-bZ7i8d6",
        "outputId": "a3e2e3be-0b14-42ba-f745-408280592f1c"
      },
      "execution_count": null,
      "outputs": [
        {
          "output_type": "stream",
          "name": "stdout",
          "text": [
            "None\n"
          ]
        }
      ]
    }
  ]
}