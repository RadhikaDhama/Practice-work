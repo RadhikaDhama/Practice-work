{
  "nbformat": 4,
  "nbformat_minor": 0,
  "metadata": {
    "colab": {
      "name": "Copy of Tuple",
      "provenance": [],
      "authorship_tag": "ABX9TyMs/MR1RHUTf3nJT4yjDDIO",
      "include_colab_link": true
    },
    "kernelspec": {
      "name": "python3",
      "display_name": "Python 3"
    },
    "language_info": {
      "name": "python"
    }
  },
  "cells": [
    {
      "cell_type": "markdown",
      "metadata": {
        "id": "view-in-github",
        "colab_type": "text"
      },
      "source": [
        "<a href=\"https://colab.research.google.com/github/RadhikaDhama/Practice-work/blob/main/Tuple%20and%20sets.ipynb\" target=\"_parent\"><img src=\"https://colab.research.google.com/assets/colab-badge.svg\" alt=\"Open In Colab\"/></a>"
      ]
    },
    {
      "cell_type": "code",
      "metadata": {
        "id": "eXJWbS9DI448"
      },
      "source": [
        "#tuple,set-an built datatype"
      ],
      "execution_count": null,
      "outputs": []
    },
    {
      "cell_type": "code",
      "source": [
        "tup=(10,54,\"This is World\",84,8,99)\n",
        "type(tup)"
      ],
      "metadata": {
        "colab": {
          "base_uri": "https://localhost:8080/"
        },
        "id": "wmFGobk70sHI",
        "outputId": "0ea67399-e1d2-4440-d3ae-9b256b70f2f9"
      },
      "execution_count": null,
      "outputs": [
        {
          "output_type": "execute_result",
          "data": {
            "text/plain": [
              "tuple"
            ]
          },
          "metadata": {},
          "execution_count": 6
        }
      ]
    },
    {
      "cell_type": "code",
      "source": [
        "tup[-3]"
      ],
      "metadata": {
        "colab": {
          "base_uri": "https://localhost:8080/"
        },
        "id": "lZ-9Xmwa07wP",
        "outputId": "ebb008be-80e6-455d-97d0-fcf927830292"
      },
      "execution_count": null,
      "outputs": [
        {
          "output_type": "execute_result",
          "data": {
            "text/plain": [
              "84"
            ]
          },
          "metadata": {},
          "execution_count": 2
        }
      ]
    },
    {
      "cell_type": "code",
      "source": [
        "#tup[2]=6 # immutable ,don't support item assignment\n",
        "tup[2][2:8] #indexing\n",
        "\n"
      ],
      "metadata": {
        "colab": {
          "base_uri": "https://localhost:8080/",
          "height": 35
        },
        "id": "fjQiYSTq1AvX",
        "outputId": "7232de0a-9775-4a6d-983c-e769e0304dce"
      },
      "execution_count": null,
      "outputs": [
        {
          "output_type": "execute_result",
          "data": {
            "application/vnd.google.colaboratory.intrinsic+json": {
              "type": "string"
            },
            "text/plain": [
              "'is is '"
            ]
          },
          "metadata": {},
          "execution_count": 9
        }
      ]
    },
    {
      "cell_type": "code",
      "source": [
        "tup2=('apple',2,7.8,67,[1,'a'],7.8)\n",
        "tup2# tuple can contain list \n",
        "#tup2.append(6) # tuple has no attribute append\n",
        "tup2[4][1]=\"r\"#item assignment to list nested in the tuple\n",
        "print(tup2)"
      ],
      "metadata": {
        "colab": {
          "base_uri": "https://localhost:8080/"
        },
        "id": "1kD5q7Lt1L7h",
        "outputId": "ce2c5d63-b3f4-436a-a98c-c3f8e184438f"
      },
      "execution_count": null,
      "outputs": [
        {
          "output_type": "stream",
          "name": "stdout",
          "text": [
            "('apple', 2, 7.8, 67, [1, 'r'], 7.8)\n"
          ]
        }
      ]
    },
    {
      "cell_type": "code",
      "source": [
        "# but\n",
        "tup2[-2].append(9) \n",
        "print(tup2)"
      ],
      "metadata": {
        "colab": {
          "base_uri": "https://localhost:8080/"
        },
        "id": "AGuyDhIaKxYc",
        "outputId": "c71f7bf3-9bab-4612-f9e5-05939adcdb03"
      },
      "execution_count": null,
      "outputs": [
        {
          "output_type": "stream",
          "name": "stdout",
          "text": [
            "('apple', 2, 7.8, 67, [1, 'r', 9], 7.8)\n"
          ]
        }
      ]
    },
    {
      "cell_type": "code",
      "source": [
        "#to add some element in tuple we concatenate them\n",
        "t=(6,8,4,9)\n",
        "tup=t+('2','6') #tup can be concatenated with tup only\n",
        "tup"
      ],
      "metadata": {
        "colab": {
          "base_uri": "https://localhost:8080/"
        },
        "id": "Y4UEEfJ8LRd6",
        "outputId": "b5d71cc9-237d-435c-f1ac-6fc9055e4ad5"
      },
      "execution_count": null,
      "outputs": [
        {
          "output_type": "execute_result",
          "data": {
            "text/plain": [
              "(6, 8, 4, 9, '2', '6')"
            ]
          },
          "metadata": {},
          "execution_count": 22
        }
      ]
    },
    {
      "cell_type": "code",
      "source": [
        "# to change some element in tuple we convert it in list\n",
        "a=(3,4)\n",
        "l=list(a)\n",
        "l[0]=1\n",
        "print(l)\n",
        "print(tuple(l))\n",
        "\n",
        "   "
      ],
      "metadata": {
        "colab": {
          "base_uri": "https://localhost:8080/"
        },
        "id": "lXCYgwySLv6G",
        "outputId": "1415d0a3-8fa0-4d99-d8c6-e214af39ee8b"
      },
      "execution_count": null,
      "outputs": [
        {
          "output_type": "stream",
          "name": "stdout",
          "text": [
            "[1, 4]\n",
            "(1, 4)\n"
          ]
        }
      ]
    },
    {
      "cell_type": "markdown",
      "source": [
        "Methods of tuple"
      ],
      "metadata": {
        "id": "tZowDjJLt2-v"
      }
    },
    {
      "cell_type": "code",
      "source": [
        "need=(\"watch\",9,\"compass\",\"box\",\"laptop\",5.8,9)\n",
        "need.count(9)"
      ],
      "metadata": {
        "colab": {
          "base_uri": "https://localhost:8080/"
        },
        "id": "DTpvHGZa1y1v",
        "outputId": "33975607-dcb2-41b3-8ede-71fbb8cf7101"
      },
      "execution_count": null,
      "outputs": [
        {
          "output_type": "execute_result",
          "data": {
            "text/plain": [
              "2"
            ]
          },
          "metadata": {},
          "execution_count": 24
        }
      ]
    },
    {
      "cell_type": "code",
      "source": [
        "need.index(\"compass\")"
      ],
      "metadata": {
        "colab": {
          "base_uri": "https://localhost:8080/"
        },
        "id": "qDCV7ANT1mAG",
        "outputId": "de7a1ca6-3a66-4bd7-afb6-cfad5b305116"
      },
      "execution_count": null,
      "outputs": [
        {
          "output_type": "execute_result",
          "data": {
            "text/plain": [
              "2"
            ]
          },
          "metadata": {},
          "execution_count": 27
        }
      ]
    },
    {
      "cell_type": "code",
      "source": [
        "tup1=(4) #tuple can't contain one element\n",
        "type(tup1)"
      ],
      "metadata": {
        "colab": {
          "base_uri": "https://localhost:8080/"
        },
        "id": "XWSXieXdJm3u",
        "outputId": "b7a834db-b1d4-4a30-b83b-07c5d8103c41"
      },
      "execution_count": null,
      "outputs": [
        {
          "output_type": "execute_result",
          "data": {
            "text/plain": [
              "int"
            ]
          },
          "metadata": {},
          "execution_count": 18
        }
      ]
    },
    {
      "cell_type": "code",
      "source": [
        "tup5=(2,) # to keep only one element in tuple end it with comma\n",
        "type(tup5)"
      ],
      "metadata": {
        "id": "nNOkMeVaJ6N0",
        "colab": {
          "base_uri": "https://localhost:8080/"
        },
        "outputId": "d504e31e-0f54-437d-dcd2-86e4de7c29fb"
      },
      "execution_count": null,
      "outputs": [
        {
          "output_type": "execute_result",
          "data": {
            "text/plain": [
              "tuple"
            ]
          },
          "metadata": {},
          "execution_count": 28
        }
      ]
    },
    {
      "cell_type": "markdown",
      "source": [
        "*SET*-unordered,unchangable and unindexed"
      ],
      "metadata": {
        "id": "pp6Tu5L6vV9s"
      }
    },
    {
      "cell_type": "code",
      "source": [
        "item=set([4,8,9,5])\n",
        "print(item)\n",
        "type(item)"
      ],
      "metadata": {
        "id": "XcptBKchvkBx",
        "colab": {
          "base_uri": "https://localhost:8080/"
        },
        "outputId": "8befebff-962e-47dc-f2d7-44e853c25fd9"
      },
      "execution_count": null,
      "outputs": [
        {
          "output_type": "stream",
          "name": "stdout",
          "text": [
            "{8, 9, 4, 5}\n"
          ]
        },
        {
          "output_type": "execute_result",
          "data": {
            "text/plain": [
              "set"
            ]
          },
          "metadata": {},
          "execution_count": 3
        }
      ]
    },
    {
      "cell_type": "code",
      "source": [
        "set={10,45,5,30,99}#doesn't mean\n",
        "#sorted - its unordered\n",
        "set"
      ],
      "metadata": {
        "colab": {
          "base_uri": "https://localhost:8080/"
        },
        "id": "hgEkziHn2xqa",
        "outputId": "7bae5280-1cba-4091-92e1-9fee9a5646a4"
      },
      "execution_count": null,
      "outputs": [
        {
          "output_type": "execute_result",
          "data": {
            "text/plain": [
              "{5, 10, 30, 45, 99}"
            ]
          },
          "metadata": {},
          "execution_count": 20
        }
      ]
    },
    {
      "cell_type": "code",
      "source": [
        "set2={64,85,93,85,64,0} #set contains unique elements\n",
        "set2"
      ],
      "metadata": {
        "colab": {
          "base_uri": "https://localhost:8080/"
        },
        "id": "oGqG4Oqu28k-",
        "outputId": "df039e30-1501-4bff-e7d0-a4772de68538"
      },
      "execution_count": null,
      "outputs": [
        {
          "output_type": "execute_result",
          "data": {
            "text/plain": [
              "{0, 64, 85, 93}"
            ]
          },
          "metadata": {},
          "execution_count": 4
        }
      ]
    },
    {
      "cell_type": "code",
      "source": [
        "#set2[1]# elements of set can't be assigned index they keep changing their position"
      ],
      "metadata": {
        "id": "dJ4raSj43o_-"
      },
      "execution_count": null,
      "outputs": []
    },
    {
      "cell_type": "markdown",
      "source": [
        "# Methods of set"
      ],
      "metadata": {
        "id": "JvEA_-Ha81P6"
      }
    },
    {
      "cell_type": "code",
      "source": [
        "set2.pop() #?? why 64 removed\n",
        "set2"
      ],
      "metadata": {
        "colab": {
          "base_uri": "https://localhost:8080/"
        },
        "id": "bCZkDpKt32Ev",
        "outputId": "964ae401-a929-46b8-d711-b807a92ce06e"
      },
      "execution_count": null,
      "outputs": [
        {
          "output_type": "execute_result",
          "data": {
            "text/plain": [
              "{0, 85, 93}"
            ]
          },
          "metadata": {},
          "execution_count": 5
        }
      ]
    },
    {
      "cell_type": "code",
      "source": [
        "set2.remove(0)\n",
        "set2"
      ],
      "metadata": {
        "colab": {
          "base_uri": "https://localhost:8080/"
        },
        "id": "3kYewZKW4K96",
        "outputId": "57a9e8c3-b74f-4374-c214-d504f87bc7bb"
      },
      "execution_count": null,
      "outputs": [
        {
          "output_type": "execute_result",
          "data": {
            "text/plain": [
              "{85, 93}"
            ]
          },
          "metadata": {},
          "execution_count": 10
        }
      ]
    },
    {
      "cell_type": "code",
      "source": [
        "set2.remove(93)\n",
        "set2"
      ],
      "metadata": {
        "id": "6k0C3w-t4gF2",
        "colab": {
          "base_uri": "https://localhost:8080/"
        },
        "outputId": "8605394b-b67b-4c3d-bdfe-82e7f296f4e3"
      },
      "execution_count": null,
      "outputs": [
        {
          "output_type": "execute_result",
          "data": {
            "text/plain": [
              "{85}"
            ]
          },
          "metadata": {},
          "execution_count": 11
        }
      ]
    },
    {
      "cell_type": "code",
      "source": [
        "s=set()\n",
        "s.add(3)\n",
        "print(s)"
      ],
      "metadata": {
        "colab": {
          "base_uri": "https://localhost:8080/"
        },
        "outputId": "e6df4379-6c4b-41b4-f503-579549c1a1a5",
        "id": "Q8mnK8u88m2f"
      },
      "execution_count": null,
      "outputs": [
        {
          "output_type": "stream",
          "name": "stdout",
          "text": [
            "{3}\n"
          ]
        }
      ]
    },
    {
      "cell_type": "code",
      "source": [
        "#set can contain tuple not list\n",
        "s_2={6,8,(5,3)}\n",
        "print(s_2)"
      ],
      "metadata": {
        "id": "FJXnKLZnNQwN",
        "colab": {
          "base_uri": "https://localhost:8080/"
        },
        "outputId": "208f7c2c-d40d-4134-f73c-6b914e44f5ba"
      },
      "execution_count": null,
      "outputs": [
        {
          "output_type": "stream",
          "name": "stdout",
          "text": [
            "{8, 6, (5, 3)}\n"
          ]
        }
      ]
    },
    {
      "cell_type": "code",
      "source": [
        "t={7,6,4,9}\n",
        "g={3,6,9,1}\n",
        "t.union(g)"
      ],
      "metadata": {
        "colab": {
          "base_uri": "https://localhost:8080/"
        },
        "id": "WBqicRiX9ewn",
        "outputId": "46cc66d3-50e8-416f-95c3-ce3e948f1de6"
      },
      "execution_count": null,
      "outputs": [
        {
          "output_type": "execute_result",
          "data": {
            "text/plain": [
              "{1, 3, 4, 6, 7, 9}"
            ]
          },
          "metadata": {},
          "execution_count": 14
        }
      ]
    },
    {
      "cell_type": "code",
      "source": [
        "t.intersection(g)"
      ],
      "metadata": {
        "colab": {
          "base_uri": "https://localhost:8080/"
        },
        "id": "MDXerj8w99bl",
        "outputId": "53b94b6e-b327-4379-f289-b108e41ccb25"
      },
      "execution_count": null,
      "outputs": [
        {
          "output_type": "execute_result",
          "data": {
            "text/plain": [
              "{6, 9}"
            ]
          },
          "metadata": {},
          "execution_count": 15
        }
      ]
    },
    {
      "cell_type": "code",
      "source": [
        "t.difference(g)"
      ],
      "metadata": {
        "colab": {
          "base_uri": "https://localhost:8080/"
        },
        "id": "tv4UU44Q-B31",
        "outputId": "8b848258-324a-4962-d9af-82348a76f2d0"
      },
      "execution_count": null,
      "outputs": [
        {
          "output_type": "execute_result",
          "data": {
            "text/plain": [
              "{4, 7}"
            ]
          },
          "metadata": {},
          "execution_count": 16
        }
      ]
    },
    {
      "cell_type": "code",
      "source": [
        "t={6,9,3,7}\n",
        "g={6,7}\n",
        "g.issubset(t)"
      ],
      "metadata": {
        "colab": {
          "base_uri": "https://localhost:8080/"
        },
        "id": "RKuiSghe-gYc",
        "outputId": "05255ffa-2d20-4519-9ac0-6d84cba235e3"
      },
      "execution_count": null,
      "outputs": [
        {
          "output_type": "execute_result",
          "data": {
            "text/plain": [
              "True"
            ]
          },
          "metadata": {},
          "execution_count": 22
        }
      ]
    },
    {
      "cell_type": "code",
      "source": [
        "t.issuperset(g)"
      ],
      "metadata": {
        "colab": {
          "base_uri": "https://localhost:8080/"
        },
        "id": "8VI2Smnd-J72",
        "outputId": "6664aa28-4430-45b2-8e0d-c5e50c40221b"
      },
      "execution_count": null,
      "outputs": [
        {
          "output_type": "execute_result",
          "data": {
            "text/plain": [
              "True"
            ]
          },
          "metadata": {},
          "execution_count": 23
        }
      ]
    },
    {
      "cell_type": "code",
      "source": [
        "#Range"
      ],
      "metadata": {
        "id": "b7H5qbDVHpjg"
      },
      "execution_count": null,
      "outputs": []
    },
    {
      "cell_type": "code",
      "source": [
        "t=list(range(0,10))\n",
        "print(t)\n"
      ],
      "metadata": {
        "colab": {
          "base_uri": "https://localhost:8080/"
        },
        "id": "AKqvrtf8Hz-s",
        "outputId": "416352a5-9ed2-4ac4-ad0b-741d44f64f1a"
      },
      "execution_count": null,
      "outputs": [
        {
          "output_type": "stream",
          "name": "stdout",
          "text": [
            "[0, 1, 2, 3, 4, 5, 6, 7, 8, 9]\n"
          ]
        }
      ]
    }
  ]
}