{
  "nbformat": 4,
  "nbformat_minor": 0,
  "metadata": {
    "colab": {
      "name": "Calculator",
      "provenance": [],
      "authorship_tag": "ABX9TyM2TOD7/xXdh2SGdwBhMF6z",
      "include_colab_link": true
    },
    "kernelspec": {
      "name": "python3",
      "display_name": "Python 3"
    },
    "language_info": {
      "name": "python"
    }
  },
  "cells": [
    {
      "cell_type": "markdown",
      "metadata": {
        "id": "view-in-github",
        "colab_type": "text"
      },
      "source": [
        "<a href=\"https://colab.research.google.com/github/RadhikaDhama/Practice-work/blob/main/Calculator.ipynb\" target=\"_parent\"><img src=\"https://colab.research.google.com/assets/colab-badge.svg\" alt=\"Open In Colab\"/></a>"
      ]
    },
    {
      "cell_type": "code",
      "execution_count": null,
      "metadata": {
        "id": "JE9fIkKhZup_"
      },
      "outputs": [],
      "source": [
        " # calculator"
      ]
    },
    {
      "cell_type": "code",
      "source": [
        "x=0\n",
        "while x<1:\n",
        "  n1=int(input('Enter first number: '))\n",
        "  n2=int(input('Enter second number: '))\n",
        "  y=int(input('Enter number of operation'))\n",
        "  for i in range(0,y):\n",
        "    a=input(\"enter your choice : \")\n",
        "    if a=='+':\n",
        "      print(\"The sum is : \",n1+n2)\n",
        "    elif a=='-':\n",
        "      print(\"The difference is : \",n1-n2)\n",
        "    elif a=='*':\n",
        "      print(\"The product is : \",n1*n2)\n",
        "    elif a=='/':\n",
        "      print(\"The quotient is : \",n1/n2)\n",
        "    else:\n",
        "      print(\"The input is invalid\")\n",
        "      break"
      ],
      "metadata": {
        "colab": {
          "base_uri": "https://localhost:8080/",
          "height": 409
        },
        "id": "cL10kEDaZxJx",
        "outputId": "8a528758-ce25-4246-adcf-2ce5f110fa14"
      },
      "execution_count": null,
      "outputs": [
        {
          "name": "stdout",
          "output_type": "stream",
          "text": [
            "Enter first number: 6\n",
            "Enter second number: 8\n",
            "Enter number of operation1\n",
            "enter your choice : +\n",
            "The sum is :  14\n",
            "Enter first number: 90\n",
            "Enter second number: 0\n",
            "Enter number of operation1\n",
            "enter your choice : /\n"
          ]
        },
        {
          "output_type": "error",
          "ename": "ZeroDivisionError",
          "evalue": "ignored",
          "traceback": [
            "\u001b[0;31m---------------------------------------------------------------------------\u001b[0m",
            "\u001b[0;31mZeroDivisionError\u001b[0m                         Traceback (most recent call last)",
            "\u001b[0;32m<ipython-input-7-d251bab5b858>\u001b[0m in \u001b[0;36m<module>\u001b[0;34m()\u001b[0m\n\u001b[1;32m     13\u001b[0m       \u001b[0mprint\u001b[0m\u001b[0;34m(\u001b[0m\u001b[0;34m\"The product is : \"\u001b[0m\u001b[0;34m,\u001b[0m\u001b[0mn1\u001b[0m\u001b[0;34m*\u001b[0m\u001b[0mn2\u001b[0m\u001b[0;34m)\u001b[0m\u001b[0;34m\u001b[0m\u001b[0;34m\u001b[0m\u001b[0m\n\u001b[1;32m     14\u001b[0m     \u001b[0;32melif\u001b[0m \u001b[0ma\u001b[0m\u001b[0;34m==\u001b[0m\u001b[0;34m'/'\u001b[0m\u001b[0;34m:\u001b[0m\u001b[0;34m\u001b[0m\u001b[0;34m\u001b[0m\u001b[0m\n\u001b[0;32m---> 15\u001b[0;31m       \u001b[0mprint\u001b[0m\u001b[0;34m(\u001b[0m\u001b[0;34m\"The quotient is : \"\u001b[0m\u001b[0;34m,\u001b[0m\u001b[0mn1\u001b[0m\u001b[0;34m/\u001b[0m\u001b[0mn2\u001b[0m\u001b[0;34m)\u001b[0m\u001b[0;34m\u001b[0m\u001b[0;34m\u001b[0m\u001b[0m\n\u001b[0m\u001b[1;32m     16\u001b[0m     \u001b[0;32melse\u001b[0m\u001b[0;34m:\u001b[0m\u001b[0;34m\u001b[0m\u001b[0;34m\u001b[0m\u001b[0m\n\u001b[1;32m     17\u001b[0m       \u001b[0mprint\u001b[0m\u001b[0;34m(\u001b[0m\u001b[0;34m\"The input is invalid\"\u001b[0m\u001b[0;34m)\u001b[0m\u001b[0;34m\u001b[0m\u001b[0;34m\u001b[0m\u001b[0m\n",
            "\u001b[0;31mZeroDivisionError\u001b[0m: division by zero"
          ]
        }
      ]
    },
    {
      "cell_type": "code",
      "source": [
        "x=0\n",
        "while x<1:\n",
        "  n1=int(input('Enter first number: '))\n",
        "  n2=int(input('Enter second number: '))\n",
        "  y=int(input('Enter number of operation'))\n",
        "  for i in range(0,y):\n",
        "    a=input(\"enter your choice : \")\n",
        "    if a=='+':\n",
        "      print(\"The sum is : \",n1+n2)\n",
        "    elif a=='-':\n",
        "      print(\"The difference is : \",n1-n2)\n",
        "    elif a=='*':\n",
        "      print(\"The product is : \",n1*n2)\n",
        "    elif a=='/':\n",
        "      print(\"The quotient is : \",n1/n2)\n",
        "    else:\n",
        "      print(\"The input is invalid\")\n",
        "      break"
      ],
      "metadata": {
        "colab": {
          "base_uri": "https://localhost:8080/",
          "height": 445
        },
        "outputId": "30931956-f521-4c16-a1f6-8d57999cf476",
        "id": "akR0RpHpfTsd"
      },
      "execution_count": null,
      "outputs": [
        {
          "name": "stdout",
          "output_type": "stream",
          "text": [
            "Enter first number: 75\n",
            "Enter second number: 2\n",
            "Enter number of operation1\n",
            "enter your choice : /\n",
            "The quotient is :  37.5\n",
            "Enter first number: -4\n",
            "Enter second number: -7\n",
            "Enter number of operation1\n",
            "enter your choice : -\n",
            "The difference is :  3\n",
            "Enter first number: a\n"
          ]
        },
        {
          "output_type": "error",
          "ename": "ValueError",
          "evalue": "ignored",
          "traceback": [
            "\u001b[0;31m---------------------------------------------------------------------------\u001b[0m",
            "\u001b[0;31mValueError\u001b[0m                                Traceback (most recent call last)",
            "\u001b[0;32m<ipython-input-8-d251bab5b858>\u001b[0m in \u001b[0;36m<module>\u001b[0;34m()\u001b[0m\n\u001b[1;32m      1\u001b[0m \u001b[0mx\u001b[0m\u001b[0;34m=\u001b[0m\u001b[0;36m0\u001b[0m\u001b[0;34m\u001b[0m\u001b[0;34m\u001b[0m\u001b[0m\n\u001b[1;32m      2\u001b[0m \u001b[0;32mwhile\u001b[0m \u001b[0mx\u001b[0m\u001b[0;34m<\u001b[0m\u001b[0;36m1\u001b[0m\u001b[0;34m:\u001b[0m\u001b[0;34m\u001b[0m\u001b[0;34m\u001b[0m\u001b[0m\n\u001b[0;32m----> 3\u001b[0;31m   \u001b[0mn1\u001b[0m\u001b[0;34m=\u001b[0m\u001b[0mint\u001b[0m\u001b[0;34m(\u001b[0m\u001b[0minput\u001b[0m\u001b[0;34m(\u001b[0m\u001b[0;34m'Enter first number: '\u001b[0m\u001b[0;34m)\u001b[0m\u001b[0;34m)\u001b[0m\u001b[0;34m\u001b[0m\u001b[0;34m\u001b[0m\u001b[0m\n\u001b[0m\u001b[1;32m      4\u001b[0m   \u001b[0mn2\u001b[0m\u001b[0;34m=\u001b[0m\u001b[0mint\u001b[0m\u001b[0;34m(\u001b[0m\u001b[0minput\u001b[0m\u001b[0;34m(\u001b[0m\u001b[0;34m'Enter second number: '\u001b[0m\u001b[0;34m)\u001b[0m\u001b[0;34m)\u001b[0m\u001b[0;34m\u001b[0m\u001b[0;34m\u001b[0m\u001b[0m\n\u001b[1;32m      5\u001b[0m   \u001b[0my\u001b[0m\u001b[0;34m=\u001b[0m\u001b[0mint\u001b[0m\u001b[0;34m(\u001b[0m\u001b[0minput\u001b[0m\u001b[0;34m(\u001b[0m\u001b[0;34m'Enter number of operation'\u001b[0m\u001b[0;34m)\u001b[0m\u001b[0;34m)\u001b[0m\u001b[0;34m\u001b[0m\u001b[0;34m\u001b[0m\u001b[0m\n",
            "\u001b[0;31mValueError\u001b[0m: invalid literal for int() with base 10: 'a'"
          ]
        }
      ]
    },
    {
      "cell_type": "code",
      "source": [
        ""
      ],
      "metadata": {
        "id": "oVgBrIGpfy58"
      },
      "execution_count": null,
      "outputs": []
    },
    {
      "cell_type": "code",
      "source": [
        "x=0\n",
        "while x<1:\n",
        "  n1=int(input('Enter first number: '))\n",
        "  n2=int(input('Enter second number: '))\n",
        "  y=int(input('Enter number of operation'))\n",
        "  for i in range(0,y):\n",
        "    a=input(\"enter your choice : \")\n",
        "    if a=='+':\n",
        "      print(\"The sum is : \",n1+n2)\n",
        "    elif a=='-':\n",
        "      print(\"The difference is : \",n1-n2)\n",
        "    elif a=='*':\n",
        "      print(\"The product is : \",n1*n2)\n",
        "    elif a=='/':\n",
        "      print(\"The quotient is : \",n1/n2)\n",
        "    else:\n",
        "      print(\"The input is invalid\")\n",
        "  break\n",
        "      "
      ],
      "metadata": {
        "colab": {
          "base_uri": "https://localhost:8080/"
        },
        "outputId": "c22309e4-1e0f-464d-c852-a97a0063b996",
        "id": "TBMMOUs9fzy1"
      },
      "execution_count": null,
      "outputs": [
        {
          "output_type": "stream",
          "name": "stdout",
          "text": [
            "Enter first number: 67\n",
            "Enter second number: 98\n",
            "Enter number of operation2\n",
            "enter your choice : +\n",
            "The sum is :  165\n"
          ]
        }
      ]
    },
    {
      "cell_type": "code",
      "source": [
        ""
      ],
      "metadata": {
        "id": "LjhNxJC8gkyz"
      },
      "execution_count": null,
      "outputs": []
    }
  ]
}